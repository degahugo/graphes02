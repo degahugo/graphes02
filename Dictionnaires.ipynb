{
 "cells": [
  {
   "cell_type": "markdown",
   "metadata": {},
   "source": [
    "# Dictionnaire"
   ]
  },
  {
   "cell_type": "markdown",
   "metadata": {
    "id": "KVa_4Q_mDFpB"
   },
   "source": [
    "### Propriétés fondamentale d'un dictionnaire (d'après D. Panzoli)\n",
    "Le dictionnaire est une table associative mettant en relation un ensemble d'éléments appelés clés avec pour chacun une valeur. Il offre les fonctionnalités suivantes :\n",
    "* Tester la présence d'une clé de manière efficace\n",
    "* Récupérer la valeur associée à une clé de manière efficace\n",
    "* Parcourir les clés, ou les couples clé-valeur dans un ordre quelconque, ou dans l'ordre naturel s'ils sont comparables\n"
   ]
  },
  {
   "cell_type": "markdown",
   "metadata": {
    "id": "TwirF9-lGaR1"
   },
   "source": [
    "### Déclaration d'un dictionnaire et ajout d'éléments\n",
    "\n",
    "Un dictionnaire peut être déclaré vide puis se voir ajouter ensuite des couples, en associant des clés à des valeurs."
   ]
  },
  {
   "cell_type": "code",
   "execution_count": 2,
   "metadata": {
    "id": "leQKYk_cHxsU"
   },
   "outputs": [],
   "source": [
    "D=dict() # ou D = {}\n",
    "D['a']=61\n",
    "D['A']=41"
   ]
  },
  {
   "cell_type": "code",
   "execution_count": 3,
   "metadata": {
    "id": "l1e3b2h0UtDJ"
   },
   "outputs": [
    {
     "name": "stdout",
     "output_type": "stream",
     "text": [
      "{'hello': 'bonjour', 5: 'cinq', 'a': 61}\n",
      "3580252834356532169 5 9070565047194439014\n"
     ]
    }
   ],
   "source": [
    "D={}\n",
    "D[\"hello\"]=\"bonjour\"\n",
    "D[5]=\"cinq\"\n",
    "D['a']= 61\n",
    "print(D) # Le dictionnaire peut contenir des clés et des valeurs hétérogènes\n",
    "print(hash(\"hello\"), hash(5), hash('a'))"
   ]
  },
  {
   "cell_type": "code",
   "execution_count": 4,
   "metadata": {
    "id": "rfgDsqRZ8Hvn"
   },
   "outputs": [
    {
     "ename": "TypeError",
     "evalue": "unhashable type: 'list'",
     "output_type": "error",
     "traceback": [
      "\u001b[1;31m---------------------------------------------------------------------------\u001b[0m",
      "\u001b[1;31mTypeError\u001b[0m                                 Traceback (most recent call last)",
      "Cell \u001b[1;32mIn[4], line 4\u001b[0m\n\u001b[0;32m      2\u001b[0m a\u001b[38;5;241m=\u001b[39m[\u001b[38;5;241m0\u001b[39m,\u001b[38;5;241m1\u001b[39m,\u001b[38;5;241m2\u001b[39m]\n\u001b[0;32m      3\u001b[0m E\u001b[38;5;241m=\u001b[39m{}\n\u001b[1;32m----> 4\u001b[0m E[a]\u001b[38;5;241m=\u001b[39m\u001b[38;5;124m\"\u001b[39m\u001b[38;5;124mliste\u001b[39m\u001b[38;5;124m\"\u001b[39m\n",
      "\u001b[1;31mTypeError\u001b[0m: unhashable type: 'list'"
     ]
    }
   ],
   "source": [
    "from random import randrange\n",
    "a=[0,1,2]\n",
    "E={}\n",
    "E[a]=\"liste\" # Les objets non hachables ne peuvent pas être utilisés comme clé"
   ]
  },
  {
   "cell_type": "markdown",
   "metadata": {
    "id": "taH2QRdfq4XJ"
   },
   "source": [
    "On peut aussi créer un dictionnaire en l'initialisant à partir de couples donnés"
   ]
  },
  {
   "cell_type": "code",
   "execution_count": null,
   "metadata": {
    "id": "NCB6ZR9Rq_3V"
   },
   "outputs": [],
   "source": [
    "D={\"hello\":\"bonjour\", \"hi\":\"bonjour\", \"goodbye\":\"au revoir\"}\n",
    "print(D)"
   ]
  },
  {
   "cell_type": "markdown",
   "metadata": {
    "id": "Ec01KljpfqCg"
   },
   "source": [
    "Le dictionnaire peut être utilisé pour fabriquer des enregistrements. Les valeurs peuvent être des listes, des ensembles ou même des dictionnaires !"
   ]
  },
  {
   "cell_type": "code",
   "execution_count": null,
   "metadata": {
    "id": "yAfqXqeIfxk7"
   },
   "outputs": [],
   "source": [
    "panzoli={\"nom\":\"Panzoli\", \"prénom\":\"David\", \"email\":\"dpanzoli@univ-jfc.fr\", \"cours\":[\"Programmation\", \"Structures de données\", \"Graphes\"]}\n",
    "panzoli[\"genre\"]=\"M\""
   ]
  },
  {
   "cell_type": "markdown",
   "metadata": {
    "id": "yNUjPyuf9s94"
   },
   "source": [
    "Enfin, comme pour les listes, il est possible de fabriquer un dictionnaire en compréhension."
   ]
  },
  {
   "cell_type": "code",
   "execution_count": null,
   "metadata": {
    "id": "LLIM3guW9rw_"
   },
   "outputs": [],
   "source": [
    "D={k:k**2 for k in range(0,10)}\n",
    "print(D)"
   ]
  },
  {
   "cell_type": "code",
   "execution_count": 5,
   "metadata": {
    "id": "o2r7mNCA-W2C"
   },
   "outputs": [
    {
     "name": "stdout",
     "output_type": "stream",
     "text": [
      "{'one': 3, 'two': 3, 'three': 5, 'four': 4}\n"
     ]
    }
   ],
   "source": [
    "D={t:len(t) for t in [\"one\", \"two\", \"three\", \"four\"]}\n",
    "print(D)"
   ]
  },
  {
   "cell_type": "markdown",
   "metadata": {
    "id": "V1DxGqiLnWyh"
   },
   "source": [
    "### Test d'une clé et récupération d'une valeur\n",
    "Dans un dictionnaire, on peut tester si un clé est présente"
   ]
  },
  {
   "cell_type": "code",
   "execution_count": 6,
   "metadata": {
    "id": "Vg2boJtTqkoR"
   },
   "outputs": [
    {
     "name": "stdout",
     "output_type": "stream",
     "text": [
      "True True False\n"
     ]
    }
   ],
   "source": [
    "D={\"hello\":\"bonjour\", 5:\"cinq\", 'a': 61}\n",
    "print('a' in D, \"hello\" in D, \"bonjour\" in D) # \"bonjour\" est une valeur, pas une clé"
   ]
  },
  {
   "cell_type": "markdown",
   "metadata": {
    "id": "ZBRf38fwW-16"
   },
   "source": [
    "Si c'est le cas, on peut récupérer la valeur qui y est associée."
   ]
  },
  {
   "cell_type": "code",
   "execution_count": 7,
   "metadata": {
    "id": "Vb8tdv8JW5mI"
   },
   "outputs": [
    {
     "name": "stdout",
     "output_type": "stream",
     "text": [
      "61\n",
      "cinq\n"
     ]
    }
   ],
   "source": [
    "D={\"hello\":\"bonjour\", 5:\"cinq\", 'a': 61}\n",
    "print(D.get('a'))\n",
    "print(D[5]) # On note que l'opérateur d'accès est le crochet [] et non l'accolade {}"
   ]
  },
  {
   "cell_type": "markdown",
   "metadata": {
    "id": "1geaxQBSaKOG"
   },
   "source": [
    "Sinon, une exception est levée lorsqu'on essaie de récupérer la valeur"
   ]
  },
  {
   "cell_type": "code",
   "execution_count": 8,
   "metadata": {
    "id": "VLVCiXWgXXqX"
   },
   "outputs": [
    {
     "ename": "KeyError",
     "evalue": "4",
     "output_type": "error",
     "traceback": [
      "\u001b[1;31m---------------------------------------------------------------------------\u001b[0m",
      "\u001b[1;31mKeyError\u001b[0m                                  Traceback (most recent call last)",
      "Cell \u001b[1;32mIn[8], line 2\u001b[0m\n\u001b[0;32m      1\u001b[0m D\u001b[38;5;241m=\u001b[39m{\u001b[38;5;241m1\u001b[39m:\u001b[38;5;124m'\u001b[39m\u001b[38;5;124ma\u001b[39m\u001b[38;5;124m'\u001b[39m, \u001b[38;5;241m2\u001b[39m:\u001b[38;5;124m'\u001b[39m\u001b[38;5;124mb\u001b[39m\u001b[38;5;124m'\u001b[39m, \u001b[38;5;241m3\u001b[39m:\u001b[38;5;124m'\u001b[39m\u001b[38;5;124mc\u001b[39m\u001b[38;5;124m'\u001b[39m}\n\u001b[1;32m----> 2\u001b[0m \u001b[38;5;28mprint\u001b[39m(\u001b[43mD\u001b[49m\u001b[43m[\u001b[49m\u001b[38;5;241;43m4\u001b[39;49m\u001b[43m]\u001b[49m)\n",
      "\u001b[1;31mKeyError\u001b[0m: 4"
     ]
    }
   ],
   "source": [
    "D={1:'a', 2:'b', 3:'c'}\n",
    "print(D[4])"
   ]
  },
  {
   "cell_type": "markdown",
   "metadata": {
    "id": "gSbQtwY4ZtJa"
   },
   "source": [
    "Le dictionnaire n'offre pas de fonctionnalité pour récupérer la clé associée à une valeur, pour la simple et bonne raison que les valeurs ne sont pas uniques."
   ]
  },
  {
   "cell_type": "code",
   "execution_count": null,
   "metadata": {
    "id": "KAkJQog3Z8g3"
   },
   "outputs": [],
   "source": [
    "D={\"hello\":\"bonjour\", \"hi\":\"bonjour\", \"goodbye\":\"au revoir\"}\n",
    "print(\"bonjour\" in D)"
   ]
  },
  {
   "cell_type": "markdown",
   "metadata": {
    "id": "rLICK3z-ahyZ"
   },
   "source": [
    "On peut toutefois récupérer la liste des clés associées à une valeur (On verra ça plus bas)."
   ]
  },
  {
   "cell_type": "markdown",
   "metadata": {
    "id": "UUIESkSwxhL8"
   },
   "source": [
    "### Modification ou suppression de couples\n"
   ]
  },
  {
   "cell_type": "markdown",
   "metadata": {
    "id": "8UXhSfsRhRZp"
   },
   "source": [
    "On peut modifier la valeur associée à une clé dans un dictionnaire :"
   ]
  },
  {
   "cell_type": "code",
   "execution_count": null,
   "metadata": {
    "id": "dNTQEmwQhQvj"
   },
   "outputs": [],
   "source": [
    "D={\"nom\":\"panzoli\",\"prénom\":\"David\",\"age\":44}\n",
    "D[\"age\"]= 45\n",
    "print(D)\n",
    "D.update({\"age\":50})\n",
    "print(D)"
   ]
  },
  {
   "cell_type": "markdown",
   "metadata": {
    "id": "meOSyaLXh6tm"
   },
   "source": [
    "Il existe de nombreux moyens de supprimer un couple :"
   ]
  },
  {
   "cell_type": "code",
   "execution_count": 9,
   "metadata": {
    "id": "gTB0jOpGxu1v"
   },
   "outputs": [
    {
     "name": "stdout",
     "output_type": "stream",
     "text": [
      "{'un': 1, 'deux': 2, 'trois': 3, 'quatre': 4, 'cinq': 5}\n",
      "{'un': 1, 'deux': 2, 'quatre': 4, 'cinq': 5}\n",
      "{'un': 1, 'quatre': 4, 'cinq': 5}\n",
      "2\n",
      "{'un': 1, 'quatre': 4}\n",
      "('cinq', 5)\n"
     ]
    }
   ],
   "source": [
    "D={\"un\":1, \"deux\":2, \"trois\":3, \"quatre\":4, \"cinq\":5}\n",
    "print(D)\n",
    "del D[\"trois\"] # del supprime le couple dont la clé est indiquée en paramètre\n",
    "print(D)\n",
    "el = D.pop(\"deux\") \n",
    "print(D) # pop également\n",
    "print(el) # mais en plus, il retourne la valeur du couple supprimé\n",
    "el = D.popitem()\n",
    "print(D) # Le dernier élément ajouté à été supprimé\n",
    "print(el)\n"
   ]
  },
  {
   "cell_type": "markdown",
   "metadata": {
    "id": "YWi6Jg5RZCvn"
   },
   "source": [
    "Il va de soi qu'un couple supprimé n'appartient plus au dictionnaire"
   ]
  },
  {
   "cell_type": "code",
   "execution_count": null,
   "metadata": {
    "id": "ZZ8mpkBoZH--"
   },
   "outputs": [],
   "source": [
    "D={\"un\":1, \"deux\":2, \"trois\":3}\n",
    "print(\"un\" in D)\n",
    "del D[\"un\"]\n",
    "print(\"un\" in D)"
   ]
  },
  {
   "cell_type": "markdown",
   "metadata": {
    "id": "dQzA1L6Xm6eS"
   },
   "source": [
    "### Parcours des clés ou des couples d'un dictionnaire\n",
    "La boucle `for` permet de parcourir un dictionnaire, en pointant successivement une et une seule fois sur chaque clé ou couple."
   ]
  },
  {
   "cell_type": "code",
   "execution_count": null,
   "metadata": {
    "id": "LtS8c8UpZiZ1"
   },
   "outputs": [],
   "source": [
    "D={\"un\":1, \"deux\":2, \"trois\":3}\n",
    "for k in D:\n",
    "  print(k)"
   ]
  },
  {
   "cell_type": "code",
   "execution_count": null,
   "metadata": {
    "id": "d4A5a3GTZmoq"
   },
   "outputs": [],
   "source": [
    "D={\"un\":1, \"deux\":2, \"trois\":3}\n",
    "for k in D:\n",
    "  print(k, D[k])"
   ]
  },
  {
   "cell_type": "markdown",
   "metadata": {
    "id": "w1IBYHoTbZs8"
   },
   "source": [
    "Les clés du dictionnaire peuvent être parcourues dans leur ordre naturel, s'il s'agit d'éléments comparables."
   ]
  },
  {
   "cell_type": "code",
   "execution_count": null,
   "metadata": {
    "id": "cAeWpo9yu8aP"
   },
   "outputs": [],
   "source": [
    "D={\"un\":1, \"deux\":2, \"trois\":3}\n",
    "for k in sorted(D):\n",
    "  print(k)"
   ]
  },
  {
   "cell_type": "markdown",
   "metadata": {
    "id": "R2e5ECzevruk"
   },
   "source": [
    "Si nécessaire, il est possible d'attribuer un rang aux clés parcourues, grâce à la fonction `enumerate` :"
   ]
  },
  {
   "cell_type": "code",
   "execution_count": null,
   "metadata": {
    "id": "Kzg1pYoDv269"
   },
   "outputs": [],
   "source": [
    "D={\"hello\":\"bonjour\", \"hi\":\"bonjour\", \"goodbye\":\"au revoir\"}\n",
    "for i,k in enumerate(D):\n",
    "  print(i,k)"
   ]
  },
  {
   "cell_type": "markdown",
   "metadata": {
    "id": "e_cq8GSmiRdv"
   },
   "source": [
    "Le code suivant parcourt les couples jusqu'à épuisement du dictionnaire :"
   ]
  },
  {
   "cell_type": "code",
   "execution_count": null,
   "metadata": {
    "id": "Cs5rYHR-fG5H"
   },
   "outputs": [],
   "source": [
    "D={\"un\":\"one\", \"deux\":\"two\", \"trois\":\"three\"}\n",
    "while D:\n",
    "  print(D.popitem())"
   ]
  },
  {
   "cell_type": "markdown",
   "metadata": {
    "id": "l9wUH5qObk1h"
   },
   "source": [
    "### Collections des clés, des valeurs et des couples\n",
    "Il est possible d'obtenir à partir d'un dictionnaire les collections de ses clés, de ses valeurs ou des couples qu'il contient."
   ]
  },
  {
   "cell_type": "code",
   "execution_count": null,
   "metadata": {
    "id": "ved0MMAobxk5"
   },
   "outputs": [],
   "source": [
    "D={\"Albi\":\"France\", \"Dakar\":\"Afrique\", \"Paris\":\"France\"}\n",
    "print(D.keys())\n",
    "print(set(D.keys())) # L'ensemble des clés"
   ]
  },
  {
   "cell_type": "code",
   "execution_count": null,
   "metadata": {
    "id": "RiIaeLPAcRDG"
   },
   "outputs": [],
   "source": [
    "D={\"Albi\":\"France\", \"Dakar\":\"Afrique\", \"Paris\":\"France\"}\n",
    "print(D.values())\n",
    "print(list(D.values())) # Conversion en liste\n",
    "print(set(D.values()))  # Conversion en ensemble"
   ]
  },
  {
   "cell_type": "code",
   "execution_count": null,
   "metadata": {
    "id": "tKwaxYUocia8"
   },
   "outputs": [],
   "source": [
    "D={\"Albi\":\"France\", \"Dakar\":\"Afrique\", \"Paris\":\"France\"}\n",
    "print(D.items())\n",
    "for k,v in D.items():\n",
    "  print(k, '=>', v)"
   ]
  },
  {
   "cell_type": "code",
   "execution_count": null,
   "metadata": {
    "id": "Kz0OYZCHcwcA"
   },
   "outputs": [],
   "source": [
    "D={\"Albi\":\"France\", \"Dakar\":\"Afrique\", \"Paris\":\"France\"}\n",
    "print(D.items())\n",
    "for i,(k,v) in enumerate(D.items()):\n",
    "  print(i, k, '=>', v)"
   ]
  },
  {
   "cell_type": "markdown",
   "metadata": {
    "id": "9dlEmAk7dLgd"
   },
   "source": [
    "# Opérations additionnelles sur les dictionnaires"
   ]
  },
  {
   "cell_type": "markdown",
   "metadata": {
    "id": "MFx6wQ9UdWFi"
   },
   "source": [
    "Pour récupérer la clé (ou potentiellement les clés) d'un dictionnaire à partir d'une valeur, on doit faire une exploration complète"
   ]
  },
  {
   "cell_type": "code",
   "execution_count": null,
   "metadata": {
    "id": "D9Ojvw4SdQAG"
   },
   "outputs": [],
   "source": [
    "D={\"Albi\":\"France\", \"Dakar\":\"Afrique\", \"Paris\":\"France\"}\n",
    "L=[]\n",
    "for k,v in D.items():\n",
    "  if v==\"France\":\n",
    "    L.append(k)\n",
    "print(\"Liste des clés associés à la valeur \\\"France\\\" :\", L)"
   ]
  },
  {
   "cell_type": "markdown",
   "metadata": {
    "id": "hwoIdpMtd1h5"
   },
   "source": [
    "On peut fusionner des dictionnaires."
   ]
  },
  {
   "cell_type": "code",
   "execution_count": 10,
   "metadata": {
    "id": "tON-DO8aeVcS"
   },
   "outputs": [
    {
     "name": "stdout",
     "output_type": "stream",
     "text": [
      "{'un': 1, 'trois': 3, 'cinq': 5, 'deux': 2, 'quatre': 4}\n"
     ]
    }
   ],
   "source": [
    "D={\"un\":1, \"trois\":3, \"cinq\":5}\n",
    "E={\"deux\":2, \"quatre\":4}\n",
    "D.update(E)\n",
    "print(D)"
   ]
  },
  {
   "cell_type": "code",
   "execution_count": 12,
   "metadata": {
    "id": "doYupO5te3ML"
   },
   "outputs": [
    {
     "name": "stdout",
     "output_type": "stream",
     "text": [
      "{'un': 2, 'trois': 3, 'cinq': 5, 'deux': 4}\n"
     ]
    }
   ],
   "source": [
    "D={\"un\":1, \"trois\":3, \"cinq\":5}\n",
    "E={\"un\":2, \"deux\":4, \"trois\":3} # L'ensemble des clés étant un ensemble, les doublons ne sont pas ajoutés\n",
    "D.update(E)\n",
    "print(D)"
   ]
  },
  {
   "cell_type": "markdown",
   "metadata": {
    "id": "VNM6hHE3if-z"
   },
   "source": [
    "On peut copier un dictionnaire."
   ]
  },
  {
   "cell_type": "code",
   "execution_count": null,
   "metadata": {
    "id": "I-mgdWT0ijij"
   },
   "outputs": [],
   "source": [
    "D={'A':41, 'a':61, '$':36, '+':43}\n",
    "E=D.copy()\n",
    "del E['A']\n",
    "print(D,E) # Le nouveau dictionnaire est indépendant du premier"
   ]
  }
 ],
 "metadata": {
  "colab": {
   "provenance": []
  },
  "kernelspec": {
   "display_name": "Python 3 (ipykernel)",
   "language": "python",
   "name": "python3"
  },
  "language_info": {
   "codemirror_mode": {
    "name": "ipython",
    "version": 3
   },
   "file_extension": ".py",
   "mimetype": "text/x-python",
   "name": "python",
   "nbconvert_exporter": "python",
   "pygments_lexer": "ipython3",
   "version": "3.10.9"
  }
 },
 "nbformat": 4,
 "nbformat_minor": 1
}
