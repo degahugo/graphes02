{
 "cells": [
  {
   "cell_type": "markdown",
   "metadata": {},
   "source": [
    "# Structures complexes"
   ]
  },
  {
   "cell_type": "markdown",
   "metadata": {
    "id": "KVa_4Q_mDFpB"
   },
   "source": [
    "### Structures complexes (d'après D. Panzoli)\n",
    "La structuration complexe de données s'effectue en imbriquant récursivement des TAD parmis la liste, l'ensemble et le dictionnaire. La structure ci-dessous en est un exemple, et les algorithmes qui suivent autant d'illustrations de l'intérêt de structurer les données."
   ]
  },
  {
   "cell_type": "code",
   "execution_count": 70,
   "metadata": {
    "id": "Ty78huy06NGA"
   },
   "outputs": [],
   "source": [
    "clients = {\n",
    "    65: {\n",
    "      'nom': 'Muller gmbh',\n",
    "      'zone': 'Europe',\n",
    "      'commandes': [\n",
    "        {'id':235, 'montant': 199.00, 'status': 'soldée'},\n",
    "        {'id':710, 'montant': 25.90, 'status': 'envoyée'},\n",
    "        {'id':849, 'montant': 45.50, 'status': 'en cours de traitement'}\n",
    "      ]\n",
    "    },\n",
    "    14: {\n",
    "      'nom': 'Thames inc.',\n",
    "      'zone': 'Europe',\n",
    "      'commandes': [\n",
    "        {'id':113, 'montant': 12.10, 'status': 'soldée'},\n",
    "        {'id':146, 'montant': 5.60, 'status': 'soldée'},\n",
    "        {'id':716, 'montant': 100.00, 'status': 'envoyée'},\n",
    "        {'id':946, 'montant': 48.99, 'status': 'en cours de traitement'}\n",
    "      ]\n",
    "    },\n",
    "    27: {\n",
    "      'nom': 'Oregon ltd',\n",
    "      'zone': 'USA',\n",
    "      'commandes': []\n",
    "    },\n",
    "    4: {\n",
    "      'nom': 'ISM Dakar',\n",
    "      'zone': 'Afrique',\n",
    "      'commandes': [\n",
    "        {'id':884, 'montant': 25.90, 'status': 'envoyée'}\n",
    "      ]\n",
    "    },\n",
    "    66: {\n",
    "      'nom': 'Tanger & Co ',\n",
    "      'zone': 'Afrique',     \n",
    "      'commandes': [\n",
    "        {'id':174, 'montant': 89.90, 'status': 'soldée'},\n",
    "        {'id':305, 'montant': 75.40, 'status': 'soldée'}\n",
    "      ]\n",
    "    }      \n",
    "}"
   ]
  },
  {
   "cell_type": "markdown",
   "metadata": {
    "id": "CBLRIK5gAS1r"
   },
   "source": [
    "Combien de clients compte le fichier client ?"
   ]
  },
  {
   "cell_type": "markdown",
   "metadata": {
    "id": "mVguKMiVAkrp"
   },
   "source": [
    "Combien de commandes ont été passées par le client d'identifiant `66` ?"
   ]
  },
  {
   "cell_type": "markdown",
   "metadata": {
    "id": "jp7xyQnpFw1A"
   },
   "source": [
    "Combien de commandes ont été passées par le client `Thames inc.` ?"
   ]
  },
  {
   "cell_type": "markdown",
   "metadata": {
    "id": "cZjX18JlKc5a"
   },
   "source": [
    "Afficher la liste des noms des clients contenus dans le fichier client."
   ]
  },
  {
   "cell_type": "markdown",
   "metadata": {
    "id": "xjEWre4KAWjj"
   },
   "source": [
    "Afficher la liste des `identifiants` des clients qui n'ont encore jamais passé commande."
   ]
  },
  {
   "cell_type": "markdown",
   "metadata": {
    "id": "dH45qAdIAiS_"
   },
   "source": [
    "Combien de commandes du client d'identifiant `65` ne sont pas encore soldées ?"
   ]
  },
  {
   "cell_type": "markdown",
   "metadata": {
    "id": "EJ5rwH8tFG_-"
   },
   "source": [
    "Ajouter au client `27` la commande d'`id` = 947, d'un `montant` de 75.25 et de `status` = en cours de traitement."
   ]
  },
  {
   "cell_type": "markdown",
   "metadata": {
    "id": "DSnY31rtNEcW"
   },
   "source": [
    "Quel est le nombre total de commandes soldées ?"
   ]
  },
  {
   "cell_type": "markdown",
   "metadata": {
    "id": "wjkGpBNUOgv4"
   },
   "source": [
    "Quel est le montant total des commandes en cours de traitement pour la zone Europe ?"
   ]
  },
  {
   "cell_type": "markdown",
   "metadata": {
    "id": "3weU8Vb-Pzii"
   },
   "source": [
    "Quelles sont les zones couvertes par les clients du fichier client ?"
   ]
  },
  {
   "cell_type": "markdown",
   "metadata": {
    "id": "qsxFE1wfQIZP"
   },
   "source": [
    "Quel est le nom du client ayant effectué la plus grosse commande, et quel est son montant ?"
   ]
  },
  {
   "cell_type": "markdown",
   "metadata": {
    "id": "1dk2HXklRxnE"
   },
   "source": [
    "Construire le dictionnaire associant à chaque status possible la liste des commandes dans ce status."
   ]
  }
 ],
 "metadata": {
  "colab": {
   "provenance": []
  },
  "kernelspec": {
   "display_name": "Python 3 (ipykernel)",
   "language": "python",
   "name": "python3"
  },
  "language_info": {
   "codemirror_mode": {
    "name": "ipython",
    "version": 3
   },
   "file_extension": ".py",
   "mimetype": "text/x-python",
   "name": "python",
   "nbconvert_exporter": "python",
   "pygments_lexer": "ipython3",
   "version": "3.10.9"
  }
 },
 "nbformat": 4,
 "nbformat_minor": 1
}
