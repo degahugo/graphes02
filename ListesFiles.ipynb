{
 "cells": [
  {
   "cell_type": "markdown",
   "metadata": {},
   "source": [
    "# Listes, Piles, Files"
   ]
  },
  {
   "cell_type": "markdown",
   "metadata": {
    "id": "KVa_4Q_mDFpB"
   },
   "source": [
    "### Propriété fondamentale d'une liste (d'après D. Panzoli)\n",
    "La liste est un TAD qui permet de ranger les éléments en leur affectant un rang (i.e. un indice ou *index*) de manière à pouvoir efficacement :\n",
    "* Accéder à un élément à partir de son indice\n",
    "* Parcourir les éléments dans l'ordre de leurs rangs respectifs\n"
   ]
  },
  {
   "cell_type": "markdown",
   "metadata": {
    "id": "TwirF9-lGaR1"
   },
   "source": [
    "### Différence entre [ ] et *index()*\n",
    "Accès à un élément versus recherche d'un élément dans une liste.\n",
    "\n",
    "Déterminer la différence de performance entre les deux instructions ci-dessous :\n"
   ]
  },
  {
   "cell_type": "code",
   "execution_count": 4,
   "metadata": {
    "colab": {
     "base_uri": "https://localhost:8080/"
    },
    "id": "leQKYk_cHxsU",
    "outputId": "494afa4e-a877-4dd9-841f-ee180cfa5a56"
   },
   "outputs": [
    {
     "name": "stdout",
     "output_type": "stream",
     "text": [
      "3 c\n",
      "1 d\n"
     ]
    }
   ],
   "source": [
    "L=['a','b','c','d','e']\n",
    "print(3, L[3])\n",
    "print(L.index('d'), 'd')"
   ]
  },
  {
   "cell_type": "markdown",
   "metadata": {
    "id": "5IYf-yKmqtFQ"
   },
   "source": [
    "### Différence entre pop et remove\n",
    "Les deux opérations suivantes produisent le même résultat. Pourtant, elles ne sont pas identiques. \n",
    "\n",
    "Déterminer leurs différences, notamment en terme de performance.\n"
   ]
  },
  {
   "cell_type": "code",
   "execution_count": 42,
   "metadata": {
    "colab": {
     "base_uri": "https://localhost:8080/"
    },
    "id": "V3-4goovqMGJ",
    "outputId": "c8d17c04-3c3a-4b50-971a-b36de1f08c8c"
   },
   "outputs": [
    {
     "name": "stdout",
     "output_type": "stream",
     "text": [
      "['a', 'b', 'c', 'e']\n"
     ]
    }
   ],
   "source": [
    "L=['a','b','c','d','e']\n",
    "L.pop(3)\n",
    "print(L)"
   ]
  },
  {
   "cell_type": "code",
   "execution_count": 43,
   "metadata": {
    "colab": {
     "base_uri": "https://localhost:8080/"
    },
    "id": "FqhVSRHPqi8u",
    "outputId": "71e66c1c-8bd9-4e93-bad5-2aba7b82687b"
   },
   "outputs": [
    {
     "name": "stdout",
     "output_type": "stream",
     "text": [
      "['a', 'b', 'c', 'e']\n"
     ]
    }
   ],
   "source": [
    "L=['a','b','c','d','e']\n",
    "L.remove('d')\n",
    "print(L)"
   ]
  },
  {
   "cell_type": "markdown",
   "metadata": {
    "id": "egmDBde5q9nh"
   },
   "source": [
    "Parcours d'une liste\n",
    "Il existe plusieurs façons de parcourir les éléments d'une liste, notamment lorsqu'on souhaite avoir accès à l'élément ainsi qu'à son indice."
   ]
  },
  {
   "cell_type": "code",
   "execution_count": null,
   "metadata": {
    "id": "h9IhM1CRrF7T"
   },
   "outputs": [],
   "source": [
    "L=['a','b','c','d','e']\n",
    "for e in L:\n",
    "  print(e)"
   ]
  },
  {
   "cell_type": "code",
   "execution_count": null,
   "metadata": {
    "id": "96dPfekVrQon"
   },
   "outputs": [],
   "source": [
    "L=['a','b','c','d','e']\n",
    "for i in range(0, len(L)):\n",
    "  print(i, L[i])"
   ]
  },
  {
   "cell_type": "markdown",
   "metadata": {
    "id": "IedlysHvJeTh"
   },
   "source": [
    "La fonction *enumerate()* est pratique car elle fonctionne avec toutes les collections, pas uniquement les listes... Mais nous y reviendrons."
   ]
  },
  {
   "cell_type": "code",
   "execution_count": null,
   "metadata": {
    "id": "7Izz08U-raZf"
   },
   "outputs": [],
   "source": [
    "L=['a','b','c','d','e']\n",
    "for i,e in enumerate(L):\n",
    "  print(i, e)"
   ]
  },
  {
   "cell_type": "code",
   "execution_count": null,
   "metadata": {
    "id": "nEsLb77ZuPqo"
   },
   "outputs": [],
   "source": [
    "L=['a','b','c','d','e']\n",
    "print(enumerate(L))\n",
    "print(list(enumerate(L)))"
   ]
  },
  {
   "cell_type": "markdown",
   "metadata": {
    "id": "aM2UcNnGPWun"
   },
   "source": [
    "Plus d'informations concernant la notation ```for i,e in enumrate(L)``` dans la section consacrée au décompactage ci-dessous."
   ]
  },
  {
   "cell_type": "markdown",
   "metadata": {
    "id": "YJleLNParCN9"
   },
   "source": [
    "Suppression en place dans une liste\n",
    "La suppression \"en place\" consiste à supprimer des éléments d'une liste durant le parcours de cette liste.\n",
    "\n",
    "Cette opération n'est pas sans danger..."
   ]
  },
  {
   "cell_type": "code",
   "execution_count": null,
   "metadata": {
    "id": "YqFNSa-JrFH1"
   },
   "outputs": [],
   "source": [
    "L=[1,7,33,12,46,25,9,17,4,25,90]\n",
    "for e in L:\n",
    "  if e%2!=0: L.remove(e)\n",
    "print(L)"
   ]
  },
  {
   "cell_type": "code",
   "execution_count": null,
   "metadata": {
    "id": "Bj5q7-xGtS_j"
   },
   "outputs": [],
   "source": [
    "L=[1,7,33,12,46,25,9,17,4,25,90]\n",
    "for i in range(0, len(L)):\n",
    "  if L[i]%2!=0: L.pop(i)\n",
    "print(L)"
   ]
  },
  {
   "cell_type": "markdown",
   "metadata": {
    "id": "DgYl0HEHL_0M"
   },
   "source": [
    "En règle générale, opérer sur une liste et la parcourir sont deux opérations qui ne devraient pas être effectuées simultanément."
   ]
  },
  {
   "cell_type": "code",
   "execution_count": null,
   "metadata": {
    "id": "Tp7Jej0itjrC"
   },
   "outputs": [],
   "source": [
    "L=[1,7,33,12,46,25,9,17,4,25,90]\n",
    "i=0\n",
    "while i<len(L):\n",
    "  if L[i]%2!=0:\n",
    "    L.pop(i)\n",
    "  else:\n",
    "    i+=1\n",
    "print(L)"
   ]
  },
  {
   "cell_type": "markdown",
   "metadata": {
    "id": "-8VNMVBauz8p"
   },
   "source": [
    "Listes en compréhension\n",
    "Une fonctionnalité très utile de Python est la possibilité de créer des listes \"en compréhension\", c'est à dire des listes dont les valeurs sont générées algorithmiquement."
   ]
  },
  {
   "cell_type": "code",
   "execution_count": null,
   "metadata": {
    "id": "mEgsXST9u95V"
   },
   "outputs": [],
   "source": [
    "L=[0]*5\n",
    "print(L)"
   ]
  },
  {
   "cell_type": "code",
   "execution_count": null,
   "metadata": {
    "id": "MPwx8O4IvE0R"
   },
   "outputs": [],
   "source": [
    "L=[i for i in range(10,15)]\n",
    "print(L)"
   ]
  },
  {
   "cell_type": "code",
   "execution_count": null,
   "metadata": {
    "id": "hDazxaC0wY4m"
   },
   "outputs": [],
   "source": [
    "L=[1,7,33,12,46,25,9,17,4,25,90]\n",
    "L=[e for e in L if e%2==0]\n",
    "print(L)"
   ]
  },
  {
   "cell_type": "code",
   "execution_count": null,
   "metadata": {
    "id": "ZD0KuYNCxeSw"
   },
   "outputs": [],
   "source": [
    "L=[[4,9],[12,8],[1,8],[7,7],[40,21]]\n",
    "Lmax=[max(l) for l in L]\n",
    "print(Lmax)"
   ]
  },
  {
   "cell_type": "markdown",
   "metadata": {
    "id": "jQMVLvws191Z"
   },
   "source": [
    "Utilisation d'une liste en FIFO ou LIFO\n",
    "Certains algorithmes n'ont pas besoin d'insérer ou de supprimer des éléments au milieu de la liste, et se contentent d'opérations aux extrêmités"
   ]
  },
  {
   "cell_type": "markdown",
   "metadata": {
    "id": "vlC803ic2r0z"
   },
   "source": [
    "### Pile (ou *Stack*)\n",
    "Une pile est une structure linéaire (par exemple une liste) dans laquelle on insère et on récupère les éléments à la même extrêmité. On parle de *last in, first out*.\n",
    "\n",
    "Exemple : utilisation d'une pile pour vérifier le parenthésage d'une expression arithmétique"
   ]
  },
  {
   "cell_type": "code",
   "execution_count": 26,
   "metadata": {
    "colab": {
     "base_uri": "https://localhost:8080/"
    },
    "id": "g0nscpaE4DYw",
    "outputId": "1fd888c6-2c84-46ec-8487-ab699fcfb847"
   },
   "outputs": [
    {
     "name": "stdout",
     "output_type": "stream",
     "text": [
      "True\n"
     ]
    }
   ],
   "source": [
    "# Empiler et dépiler à la fin de la liste\n",
    "expression='(a+b)/2-((e-2*a)+a*b*c)'\n",
    "S=[]\n",
    "for c in expression:\n",
    "  if c=='(': S.append(c)\n",
    "  elif c==')': S.pop()\n",
    "print(S==[])\n"
   ]
  },
  {
   "cell_type": "code",
   "execution_count": 29,
   "metadata": {
    "colab": {
     "base_uri": "https://localhost:8080/"
    },
    "id": "HaHlqd-m5ZjX",
    "outputId": "48f6fa99-aff8-4b92-b751-2753dcf9ee28"
   },
   "outputs": [
    {
     "name": "stdout",
     "output_type": "stream",
     "text": [
      "True\n"
     ]
    }
   ],
   "source": [
    "# Empiler et dépiler au début de la liste\n",
    "expression='(a+b)/2-((e-2*a)+a*b*c)'\n",
    "S=[]\n",
    "for c in expression:\n",
    "  if c=='(': S.insert(0,c)\n",
    "  elif c==')': S.pop(0)\n",
    "print(S==[])"
   ]
  },
  {
   "cell_type": "markdown",
   "metadata": {
    "id": "0DfFfncw5jwX"
   },
   "source": [
    "Les deux algorithmes ci-dessus produisent le même résultat mais sont-ils identiques en terme de performance ?"
   ]
  },
  {
   "cell_type": "markdown",
   "metadata": {
    "id": "LM2xqASV2ePT"
   },
   "source": [
    "## File (ou *Queue*)\n",
    "Une file est une structure linéaire (par exemple une liste) dans laquelle on insère et on récupère les éléments aux extrêmités opposées. On parle de *first-in, first-out*.\n",
    "\n",
    "Exemple: utiisation d'une file d'attente pour trier des éléments consécutifs dans une liste"
   ]
  },
  {
   "cell_type": "code",
   "execution_count": null,
   "metadata": {
    "id": "mtoqSJfK6J20"
   },
   "outputs": [],
   "source": [
    "Q=[5,1,0,6,3,4,2]\n",
    "i=0\n",
    "while Q:\n",
    "  #print(Q)\n",
    "  j=Q.pop(0)\n",
    "  if i==j:\n",
    "    print(j)\n",
    "    i+=1\n",
    "  else: Q.append(j)"
   ]
  },
  {
   "cell_type": "code",
   "execution_count": null,
   "metadata": {
    "id": "ywjuQ2S07n6r"
   },
   "outputs": [],
   "source": [
    "Q=[5,1,0,6,3,4,2]\n",
    "i=0\n",
    "while Q:\n",
    "  #print(Q)\n",
    "  j=Q.pop()\n",
    "  if i==j:\n",
    "    print(j)\n",
    "    i+=1\n",
    "  else: Q.insert(0,j)"
   ]
  },
  {
   "cell_type": "markdown",
   "metadata": {
    "id": "tJWqEsHk7yHz"
   },
   "source": [
    "Les deux algorithmes ci-dessus produisent le même résultat mais sont-ils identiques en terme de performance ?"
   ]
  },
  {
   "cell_type": "markdown",
   "metadata": {
    "id": "tlYqJeg90ytX"
   },
   "source": [
    "### Listes de listes\n",
    "Lorsqu'on fabrique de structures de données complexes, les éléments d'une liste peuvent être eux-mêmes des listes. Cette structuration peut entraîner des confusions."
   ]
  },
  {
   "cell_type": "code",
   "execution_count": 46,
   "metadata": {
    "colab": {
     "base_uri": "https://localhost:8080/"
    },
    "id": "qU6gQBAxM5PF",
    "outputId": "b52e003b-dff4-4fd1-9289-bf5e5c52c10f"
   },
   "outputs": [
    {
     "name": "stdout",
     "output_type": "stream",
     "text": [
      "['a', 'b', 'c', ['d', 'e', 'f']] 4\n"
     ]
    }
   ],
   "source": [
    "L=['a','b','c']\n",
    "L.append(['d','e','f'])\n",
    "print(L, len(L))"
   ]
  },
  {
   "cell_type": "code",
   "execution_count": 47,
   "metadata": {
    "colab": {
     "base_uri": "https://localhost:8080/"
    },
    "id": "3GTKleTaNHUZ",
    "outputId": "f1d366b3-7208-4fca-83a4-e5411df00197"
   },
   "outputs": [
    {
     "name": "stdout",
     "output_type": "stream",
     "text": [
      "['a', 'b', 'c', 'd', 'e', 'f'] 6\n"
     ]
    }
   ],
   "source": [
    "L=['a','b','c']\n",
    "L.extend(['d','e','f'])\n",
    "print(L, len(L))"
   ]
  },
  {
   "cell_type": "markdown",
   "metadata": {
    "id": "CtXmrVpvNczL"
   },
   "source": [
    "### Liste chaînée\n",
    "Il n'existe pas d'implémentation de la liste chaînée en Python, mais celle-ci est très facile à réaliser si le besoin s'en fait sentir..."
   ]
  },
  {
   "cell_type": "code",
   "execution_count": 51,
   "metadata": {
    "colab": {
     "base_uri": "https://localhost:8080/"
    },
    "id": "TFtFiMCwNphA",
    "outputId": "951afe25-2655-4b10-e26f-947735ed9e63"
   },
   "outputs": [
    {
     "name": "stdout",
     "output_type": "stream",
     "text": [
      "c\n",
      "b\n",
      "a\n"
     ]
    }
   ],
   "source": [
    "class Node:\n",
    "  def __init__(self,v, s):\n",
    "    self.val=v\n",
    "    self.succ=s\n",
    "\n",
    "L=Node('a',None)\n",
    "L=Node('b',L)\n",
    "L=Node('c',L)\n",
    "\n",
    "while L:\n",
    "  print(L.val)\n",
    "  L=L.succ"
   ]
  }
 ],
 "metadata": {
  "colab": {
   "provenance": []
  },
  "kernelspec": {
   "display_name": "Python 3 (ipykernel)",
   "language": "python",
   "name": "python3"
  },
  "language_info": {
   "codemirror_mode": {
    "name": "ipython",
    "version": 3
   },
   "file_extension": ".py",
   "mimetype": "text/x-python",
   "name": "python",
   "nbconvert_exporter": "python",
   "pygments_lexer": "ipython3",
   "version": "3.11.0"
  }
 },
 "nbformat": 4,
 "nbformat_minor": 1
}
