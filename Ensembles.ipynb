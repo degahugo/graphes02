{
 "cells": [
  {
   "cell_type": "markdown",
   "metadata": {},
   "source": [
    "# Ensembles"
   ]
  },
  {
   "cell_type": "markdown",
   "metadata": {
    "id": "KVa_4Q_mDFpB"
   },
   "source": [
    "### Propriété fondamentale d'un ensemble (d'après D. Panzoli)\n",
    "L'ensemble est une collection d'éléments uniques, dépourvus d'indice ou de rang, qui offre les fonctionnalités élémentaires suivantes :\n",
    "* Obtenir la cardinalité de l'ensemble\n",
    "* Tester de manière efficace l'appartenance d'un élément à un ensemble\n",
    "* Réaliser des opérations ensemblistes (union, intersection) de manière efficace.\n",
    "* Parcourir les éléments dans un ordre quelconque, ou dans l'ordre naturel s'ils sont comparables\n"
   ]
  },
  {
   "cell_type": "markdown",
   "metadata": {
    "id": "TwirF9-lGaR1"
   },
   "source": [
    "### Déclaration d'un ensemble et ajout d'éléments\n",
    "\n",
    "Un ensemble peut être déclaré vide puis se voir ajouter des éléments"
   ]
  },
  {
   "cell_type": "code",
   "execution_count": 1,
   "metadata": {
    "id": "leQKYk_cHxsU"
   },
   "outputs": [
    {
     "name": "stdout",
     "output_type": "stream",
     "text": [
      "{1, 2, 3}\n",
      "{1, 2, 3}\n"
     ]
    }
   ],
   "source": [
    "E=set()\n",
    "E.add(1)\n",
    "E.add(2)\n",
    "E.add(3)\n",
    "print(E)\n",
    "E.add(1)\n",
    "print(E) #Noter que le doublon n'a pas été ajouté"
   ]
  },
  {
   "cell_type": "markdown",
   "metadata": {
    "id": "taH2QRdfq4XJ"
   },
   "source": [
    "On peut aussi créer un ensemble initialisé à partir d'éléments donnés"
   ]
  },
  {
   "cell_type": "code",
   "execution_count": 2,
   "metadata": {
    "id": "NCB6ZR9Rq_3V"
   },
   "outputs": [
    {
     "name": "stdout",
     "output_type": "stream",
     "text": [
      "{1, 2, 3}\n",
      "{'b', 'a'}\n"
     ]
    }
   ],
   "source": [
    "E={1,2,3}\n",
    "print(E)\n",
    "F={'a','b','b'}\n",
    "print(F)"
   ]
  },
  {
   "cell_type": "markdown",
   "metadata": {
    "id": "FgXQRyP8mPU2"
   },
   "source": [
    "Un ensemble peut également être créé à partir d'une autre collection, comme par exemple une liste"
   ]
  },
  {
   "cell_type": "code",
   "execution_count": 3,
   "metadata": {
    "id": "TENAo1EEmVpU"
   },
   "outputs": [
    {
     "name": "stdout",
     "output_type": "stream",
     "text": [
      "{'b', 'd', 'e', 'a', 'c'}\n",
      "['a', 'b', 'c', 'd', 'e']\n"
     ]
    }
   ],
   "source": [
    "E=set(['a','b','a','c','e','d'])\n",
    "print(E) # Notez l'ordre d'affichage des éléments\n",
    "print(sorted(E))"
   ]
  },
  {
   "cell_type": "markdown",
   "metadata": {
    "id": "dQzA1L6Xm6eS"
   },
   "source": [
    "### Parcours des éléments d'un ensemble\n",
    "La boucle `for` permet de parcourir les éléments de l'ensemble, une et une seule fois chacun."
   ]
  },
  {
   "cell_type": "code",
   "execution_count": 4,
   "metadata": {
    "id": "cAeWpo9yu8aP"
   },
   "outputs": [
    {
     "name": "stdout",
     "output_type": "stream",
     "text": [
      "e\n",
      "l\n",
      "o\n",
      "w\n",
      "h\n",
      "d\n",
      "r\n"
     ]
    }
   ],
   "source": [
    "E={'h','e','l','l','o','w','o','r','l','d'}\n",
    "for e in E:\n",
    "  print(e)"
   ]
  },
  {
   "cell_type": "markdown",
   "metadata": {
    "id": "R2e5ECzevruk"
   },
   "source": [
    "Si nécessaire, il est possible d'attribuer un rang aux éléments parcourus, grâce à la fonction `enumerate` :"
   ]
  },
  {
   "cell_type": "code",
   "execution_count": 5,
   "metadata": {
    "id": "Kzg1pYoDv269"
   },
   "outputs": [
    {
     "name": "stdout",
     "output_type": "stream",
     "text": [
      "0 e\n",
      "1 l\n",
      "2 o\n",
      "3 w\n",
      "4 h\n",
      "5 d\n",
      "6 r\n"
     ]
    }
   ],
   "source": [
    "for i,e in enumerate(E):\n",
    "  print(i,e)"
   ]
  },
  {
   "cell_type": "markdown",
   "metadata": {
    "id": "FcATr2xuwfGZ"
   },
   "source": [
    "Ou en transformant l'ensemble en liste. On peut alors manipuler la liste comme vu précédemment."
   ]
  },
  {
   "cell_type": "code",
   "execution_count": 6,
   "metadata": {
    "id": "ZTB-HyYJwis0"
   },
   "outputs": [
    {
     "name": "stdout",
     "output_type": "stream",
     "text": [
      "['e', 'l', 'o', 'w', 'h', 'd', 'r']\n"
     ]
    }
   ],
   "source": [
    "L=list(E)\n",
    "print(L)"
   ]
  },
  {
   "cell_type": "markdown",
   "metadata": {
    "id": "UUIESkSwxhL8"
   },
   "source": [
    "### Suppression d'éléments d'un ensemble\n",
    "Tout comme on peut ajouter des éléments, on peut aussi en enlever grâce aux opérateurs `discard` et `pop` :"
   ]
  },
  {
   "cell_type": "code",
   "execution_count": 7,
   "metadata": {
    "id": "gTB0jOpGxu1v"
   },
   "outputs": [
    {
     "name": "stdout",
     "output_type": "stream",
     "text": [
      "{'l', 'w', 'd', 'r', 'e', 'h', 'o'}\n",
      "{'l', 'w', 'd', 'r', 'e', 'o'}\n",
      "{'l', 'w', 'd', 'r', 'e', 'o'}\n",
      "{'d', 'r', 'e', 'o'}\n"
     ]
    },
    {
     "ename": "TypeError",
     "evalue": "set.pop() takes no arguments (1 given)",
     "output_type": "error",
     "traceback": [
      "\u001b[1;31m---------------------------------------------------------------------------\u001b[0m",
      "\u001b[1;31mTypeError\u001b[0m                                 Traceback (most recent call last)",
      "Cell \u001b[1;32mIn[7], line 10\u001b[0m\n\u001b[0;32m      8\u001b[0m E\u001b[38;5;241m.\u001b[39mpop()\n\u001b[0;32m      9\u001b[0m \u001b[38;5;28mprint\u001b[39m(E)\n\u001b[1;32m---> 10\u001b[0m \u001b[43mE\u001b[49m\u001b[38;5;241;43m.\u001b[39;49m\u001b[43mpop\u001b[49m\u001b[43m(\u001b[49m\u001b[38;5;241;43m0\u001b[39;49m\u001b[43m)\u001b[49m\n",
      "\u001b[1;31mTypeError\u001b[0m: set.pop() takes no arguments (1 given)"
     ]
    }
   ],
   "source": [
    "E=set(\"helloworld\")\n",
    "print(E)\n",
    "E.discard('h')\n",
    "print(E)\n",
    "E.discard('a')\n",
    "print(E)\n",
    "E.pop()\n",
    "E.pop()\n",
    "print(E)\n",
    "E.pop(0)"
   ]
  },
  {
   "cell_type": "markdown",
   "metadata": {
    "id": "V1DxGqiLnWyh"
   },
   "source": [
    "# Test d'appartenance\n",
    "L'objectif principal de l'ensemble n'est pas le parcours des éléments mais le test d'appartenance."
   ]
  },
  {
   "cell_type": "code",
   "execution_count": 8,
   "metadata": {
    "id": "Vg2boJtTqkoR"
   },
   "outputs": [
    {
     "name": "stdout",
     "output_type": "stream",
     "text": [
      "True False True\n"
     ]
    }
   ],
   "source": [
    "E={1,2,3}\n",
    "print(1 in E, 4 in E, 6 not in E)"
   ]
  },
  {
   "cell_type": "markdown",
   "metadata": {
    "id": "ZwdkRHLTqle4"
   },
   "source": [
    "Le test d'appartenance est réalisé de manière plus efficace que celui de la liste"
   ]
  },
  {
   "cell_type": "code",
   "execution_count": null,
   "metadata": {
    "colab": {
     "base_uri": "https://localhost:8080/"
    },
    "id": "XFzSXxqSnqbt",
    "outputId": "ca2d6987-adb2-4878-f414-8cc8c9cf6d13"
   },
   "outputs": [
    {
     "name": "stdout",
     "output_type": "stream",
     "text": [
      "175.97 ms\n"
     ]
    }
   ],
   "source": [
    "import random\n",
    "import time\n",
    "L = [random.randrange(1, 10**9, 1) for i in range(10000)]\n",
    "start = time.time()\n",
    "for i in range(1000):\n",
    "  n = random.randint(0,10**9)\n",
    "  b = n in L\n",
    "print(\"%.2f ms\" % ((time.time() - start)*1000) )"
   ]
  },
  {
   "cell_type": "code",
   "execution_count": null,
   "metadata": {
    "colab": {
     "base_uri": "https://localhost:8080/"
    },
    "id": "kEOVvUAPqW_G",
    "outputId": "54ba4874-8941-47ee-b7f8-204761b15565"
   },
   "outputs": [
    {
     "name": "stdout",
     "output_type": "stream",
     "text": [
      "5.05 ms\n"
     ]
    }
   ],
   "source": [
    "import random\n",
    "import time\n",
    "E = set([random.randrange(1, 10**9, 1) for i in range(10000)])\n",
    "start = time.time()\n",
    "for i in range(1000):\n",
    "  n = random.randint(0,10**9)\n",
    "  b = n in E\n",
    "print(\"%.2f ms\" % ((time.time() - start)*1000) )"
   ]
  },
  {
   "cell_type": "markdown",
   "metadata": {
    "id": "TV5MRDhgnKO6"
   },
   "source": [
    "# Opérations ensemblistes\n",
    "Un deuxième intérêt du TAD Ensemble, hormis le test d'appartenance, est de pouvoir effectuer des opérations ensemblistes.\n",
    "\n",
    "### Union\n",
    "Le résultat de l'union de deux ensembles est un nouvel ensemble qui contient les éléments des deux ensembles :"
   ]
  },
  {
   "cell_type": "code",
   "execution_count": 9,
   "metadata": {
    "id": "ZrF0R6q7zyTW"
   },
   "outputs": [
    {
     "name": "stdout",
     "output_type": "stream",
     "text": [
      "{1, 2, 3, 4, 5, 6}\n",
      "{1, 2, 3, 4, 5, 6}\n"
     ]
    }
   ],
   "source": [
    "E={1,3,5}\n",
    "F={2,4,6}\n",
    "print(E.union(F))\n",
    "print(E|F)"
   ]
  },
  {
   "cell_type": "code",
   "execution_count": 10,
   "metadata": {
    "id": "4cn5DDg81AJC"
   },
   "outputs": [
    {
     "name": "stdout",
     "output_type": "stream",
     "text": [
      "{'R', 'I', 'A', 'D', 'K', 'P', 'S'}\n"
     ]
    }
   ],
   "source": [
    "E=set(\"PARIS\")\n",
    "F=set(\"DAKAR\")\n",
    "print(E|F)"
   ]
  },
  {
   "cell_type": "markdown",
   "metadata": {
    "id": "2WOXCxLV1ate"
   },
   "source": [
    "### Intersection\n",
    "Le résultat de l'intersection de deux ensembles est un nouvel ensemble qui contient les éléments communs aux deux ensembles :"
   ]
  },
  {
   "cell_type": "code",
   "execution_count": 11,
   "metadata": {
    "id": "t2LESDsa1jKs"
   },
   "outputs": [
    {
     "name": "stdout",
     "output_type": "stream",
     "text": [
      "{'A', 'R'}\n",
      "{'A', 'R'}\n"
     ]
    }
   ],
   "source": [
    "E=set(\"PARIS\")\n",
    "F=set(\"DAKAR\")\n",
    "print(E.intersection(F))\n",
    "print(E&F)"
   ]
  },
  {
   "cell_type": "code",
   "execution_count": 12,
   "metadata": {
    "id": "kGxSjw111uvQ"
   },
   "outputs": [
    {
     "name": "stdout",
     "output_type": "stream",
     "text": [
      "set()\n"
     ]
    }
   ],
   "source": [
    "E={1,3,5}\n",
    "F={2,4,6}\n",
    "print(E&F)"
   ]
  },
  {
   "cell_type": "markdown",
   "metadata": {
    "id": "LSlfzFuz19vy"
   },
   "source": [
    "### Différence et différence symmétrique\n",
    "Un ensemble peut être soustrait d'un autre ensemble, c'est à dire que tous les éléments du deuxième ensemble sont enlevés du premier, s'ils y existent."
   ]
  },
  {
   "cell_type": "code",
   "execution_count": 13,
   "metadata": {
    "id": "o3e7zcet2Q-x"
   },
   "outputs": [
    {
     "name": "stdout",
     "output_type": "stream",
     "text": [
      "{2, 4, 6}\n",
      "{2, 4, 6}\n",
      "set()\n"
     ]
    }
   ],
   "source": [
    "E={1,2,3,4,5,6}\n",
    "F={1,3,5}\n",
    "print(E.difference(F))\n",
    "print(E-F)\n",
    "print(F-E)"
   ]
  },
  {
   "cell_type": "markdown",
   "metadata": {
    "id": "v2ONBMmI2lYU"
   },
   "source": [
    "La notion de différence symétrique correspond à l'opérateur logique XOR (ou exclusif) : le résultat contient les éléments qui sont soit dans le premier ensemble, soit dans le deuxième, mais pas dans les deux."
   ]
  },
  {
   "cell_type": "code",
   "execution_count": null,
   "metadata": {
    "id": "kgYD7hcb2tkf"
   },
   "outputs": [],
   "source": [
    "E={1,2,3}\n",
    "F={1,3,5}\n",
    "print(E^F)\n",
    "print(F^E) #Bien entendu, la différence symétrique est symétrique"
   ]
  },
  {
   "cell_type": "markdown",
   "metadata": {
    "id": "wQk5DdFo4Ho0"
   },
   "source": [
    "### Sous-ensemble\n",
    "L'opérateur `issubset` renvoie `True` si le premier ensemble est inclus dans le deuxième :"
   ]
  },
  {
   "cell_type": "code",
   "execution_count": 1,
   "metadata": {
    "id": "rlELMyUH4Vat"
   },
   "outputs": [
    {
     "name": "stdout",
     "output_type": "stream",
     "text": [
      "True\n"
     ]
    }
   ],
   "source": [
    "E={1,2,3,4,5,6}\n",
    "F={1,3,5}\n",
    "print(F.issubset(E))"
   ]
  },
  {
   "cell_type": "markdown",
   "metadata": {
    "id": "uPJFiPW44jAK"
   },
   "source": [
    "Il existe aussi les méthodes `issuperset` et `isdisjoint`."
   ]
  },
  {
   "cell_type": "code",
   "execution_count": 2,
   "metadata": {},
   "outputs": [
    {
     "name": "stdout",
     "output_type": "stream",
     "text": [
      "True\n",
      "False\n"
     ]
    }
   ],
   "source": [
    "print(E.issuperset(F))\n",
    "print(F.isdisjoint(E))"
   ]
  }
 ],
 "metadata": {
  "colab": {
   "provenance": []
  },
  "kernelspec": {
   "display_name": "Python 3 (ipykernel)",
   "language": "python",
   "name": "python3"
  },
  "language_info": {
   "codemirror_mode": {
    "name": "ipython",
    "version": 3
   },
   "file_extension": ".py",
   "mimetype": "text/x-python",
   "name": "python",
   "nbconvert_exporter": "python",
   "pygments_lexer": "ipython3",
   "version": "3.10.9"
  }
 },
 "nbformat": 4,
 "nbformat_minor": 1
}
